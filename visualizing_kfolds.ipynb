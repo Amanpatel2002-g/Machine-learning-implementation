{
 "cells": [
  {
   "cell_type": "code",
   "execution_count": 1,
   "metadata": {},
   "outputs": [],
   "source": [
    "import numpy as np\n",
    "\n",
    "# Create a dataset\n",
    "X = np.array([[i] for i in range(1, 11)])\n",
    "y = np.array([i for i in range(1, 11)])\n"
   ]
  },
  {
   "cell_type": "code",
   "execution_count": 2,
   "metadata": {},
   "outputs": [
    {
     "data": {
      "text/plain": [
       "array([[ 1],\n",
       "       [ 2],\n",
       "       [ 3],\n",
       "       [ 4],\n",
       "       [ 5],\n",
       "       [ 6],\n",
       "       [ 7],\n",
       "       [ 8],\n",
       "       [ 9],\n",
       "       [10]])"
      ]
     },
     "execution_count": 2,
     "metadata": {},
     "output_type": "execute_result"
    }
   ],
   "source": [
    "X"
   ]
  },
  {
   "cell_type": "code",
   "execution_count": 3,
   "metadata": {},
   "outputs": [
    {
     "data": {
      "text/plain": [
       "array([ 1,  2,  3,  4,  5,  6,  7,  8,  9, 10])"
      ]
     },
     "execution_count": 3,
     "metadata": {},
     "output_type": "execute_result"
    }
   ],
   "source": [
    "y"
   ]
  },
  {
   "cell_type": "code",
   "execution_count": 4,
   "metadata": {},
   "outputs": [],
   "source": [
    "from sklearn.model_selection import KFold\n",
    "\n",
    "kf = KFold(n_splits=5)\n",
    "\n",
    "# Splitting the dataset into 5 folds\n",
    "folds = list(kf.split(X))\n"
   ]
  },
  {
   "cell_type": "code",
   "execution_count": 5,
   "metadata": {},
   "outputs": [
    {
     "data": {
      "text/plain": [
       "[(array([2, 3, 4, 5, 6, 7, 8, 9]), array([0, 1])),\n",
       " (array([0, 1, 4, 5, 6, 7, 8, 9]), array([2, 3])),\n",
       " (array([0, 1, 2, 3, 6, 7, 8, 9]), array([4, 5])),\n",
       " (array([0, 1, 2, 3, 4, 5, 8, 9]), array([6, 7])),\n",
       " (array([0, 1, 2, 3, 4, 5, 6, 7]), array([8, 9]))]"
      ]
     },
     "execution_count": 5,
     "metadata": {},
     "output_type": "execute_result"
    }
   ],
   "source": [
    "folds"
   ]
  },
  {
   "cell_type": "code",
   "execution_count": 6,
   "metadata": {},
   "outputs": [
    {
     "name": "stdout",
     "output_type": "stream",
     "text": [
      "Fold 1\n",
      "Train indices: [2 3 4 5 6 7 8 9]\n",
      "Test indices: [0 1]\n",
      "\n",
      "Fold 2\n",
      "Train indices: [0 1 4 5 6 7 8 9]\n",
      "Test indices: [2 3]\n",
      "\n",
      "Fold 3\n",
      "Train indices: [0 1 2 3 6 7 8 9]\n",
      "Test indices: [4 5]\n",
      "\n",
      "Fold 4\n",
      "Train indices: [0 1 2 3 4 5 8 9]\n",
      "Test indices: [6 7]\n",
      "\n",
      "Fold 5\n",
      "Train indices: [0 1 2 3 4 5 6 7]\n",
      "Test indices: [8 9]\n",
      "\n"
     ]
    }
   ],
   "source": [
    "\n",
    "for fold_idx, (train_index, test_index) in enumerate(folds):\n",
    "    print(f\"Fold {fold_idx + 1}\")\n",
    "    print(f\"Train indices: {train_index}\")\n",
    "    print(f\"Test indices: {test_index}\")\n",
    "    print()"
   ]
  },
  {
   "cell_type": "code",
   "execution_count": 7,
   "metadata": {},
   "outputs": [
    {
     "name": "stdout",
     "output_type": "stream",
     "text": [
      "Fold 1\n",
      "Train MSE: 5.17689969051289e-31\n",
      "Test MSE: 4.0429121392576855e-30\n",
      "\n",
      "Fold 2\n",
      "Train MSE: 6.224605580259546e-31\n",
      "Test MSE: 7.888609052210118e-31\n",
      "\n",
      "Fold 3\n",
      "Train MSE: 1.5284180038657104e-30\n",
      "Test MSE: 3.944304526105059e-31\n",
      "\n",
      "Fold 4\n",
      "Train MSE: 1.232595164407831e-30\n",
      "Test MSE: 3.1554436208840472e-30\n",
      "\n",
      "Fold 5\n",
      "Train MSE: 1.232595164407831e-30\n",
      "Test MSE: 3.1554436208840472e-30\n",
      "\n",
      "Average Train MSE: 1.0267517719517231e-30\n",
      "Average Test MSE: 2.3074181477714594e-30\n"
     ]
    }
   ],
   "source": [
    "from sklearn.linear_model import LinearRegression\n",
    "from sklearn.metrics import mean_squared_error\n",
    "\n",
    "# Initialize the model\n",
    "model = LinearRegression()\n",
    "\n",
    "# Store the results of each fold\n",
    "train_scores = []\n",
    "test_scores = []\n",
    "\n",
    "for fold_idx, (train_index, test_index) in enumerate(folds):\n",
    "    # Split data into training and testing sets\n",
    "    X_train, X_test = X[train_index], X[test_index]\n",
    "    y_train, y_test = y[train_index], y[test_index]\n",
    "    \n",
    "    # Train the model\n",
    "    model.fit(X_train, y_train)\n",
    "    \n",
    "    # Predict on training and testing sets\n",
    "    y_train_pred = model.predict(X_train)\n",
    "    y_test_pred = model.predict(X_test)\n",
    "    \n",
    "    # Calculate and store the scores\n",
    "    train_score = mean_squared_error(y_train, y_train_pred)\n",
    "    test_score = mean_squared_error(y_test, y_test_pred)\n",
    "    train_scores.append(train_score)\n",
    "    test_scores.append(test_score)\n",
    "    \n",
    "    print(f\"Fold {fold_idx + 1}\")\n",
    "    print(f\"Train MSE: {train_score}\")\n",
    "    print(f\"Test MSE: {test_score}\")\n",
    "    print()\n",
    "\n",
    "# Average scores\n",
    "print(f\"Average Train MSE: {np.mean(train_scores)}\")\n",
    "print(f\"Average Test MSE: {np.mean(test_scores)}\")"
   ]
  },
  {
   "cell_type": "code",
   "execution_count": null,
   "metadata": {},
   "outputs": [],
   "source": []
  }
 ],
 "metadata": {
  "kernelspec": {
   "display_name": "Python 3",
   "language": "python",
   "name": "python3"
  },
  "language_info": {
   "codemirror_mode": {
    "name": "ipython",
    "version": 3
   },
   "file_extension": ".py",
   "mimetype": "text/x-python",
   "name": "python",
   "nbconvert_exporter": "python",
   "pygments_lexer": "ipython3",
   "version": "3.10.13"
  }
 },
 "nbformat": 4,
 "nbformat_minor": 2
}
